{
  "nbformat": 4,
  "nbformat_minor": 0,
  "metadata": {
    "colab": {
      "provenance": [],
      "collapsed_sections": [],
      "authorship_tag": "ABX9TyPV3HTONm3nW9o9ModAAqhk",
      "include_colab_link": true
    },
    "kernelspec": {
      "name": "python3",
      "display_name": "Python 3"
    },
    "language_info": {
      "name": "python"
    }
  },
  "cells": [
    {
      "cell_type": "markdown",
      "metadata": {
        "id": "view-in-github",
        "colab_type": "text"
      },
      "source": [
        "<a href=\"https://colab.research.google.com/github/DavidSilvaProgrammer/-Softex-Modulo-2/blob/main/PandasAtiv1Incrementado.ipynb\" target=\"_parent\"><img src=\"https://colab.research.google.com/assets/colab-badge.svg\" alt=\"Open In Colab\"/></a>"
      ]
    },
    {
      "cell_type": "code",
      "execution_count": 44,
      "metadata": {
        "colab": {
          "base_uri": "https://localhost:8080/"
        },
        "id": "alSU2MBCckz8",
        "outputId": "77f8eaaa-1290-45fd-aaaa-c0d91879f6d0"
      },
      "outputs": [
        {
          "output_type": "stream",
          "name": "stdout",
          "text": [
            "     aluno  nota_1  nota_2  faltas  media   situacao\n",
            "0  aluno_1       7       7       1    7.0   APROVADO\n",
            "1  aluno_2       3      10       7    6.5  REPROVADO\n",
            "2  aluno_3       9       4       2    6.5  REPROVADO\n",
            "3  aluno_4      10       6       9    8.0  REPROVADO\n",
            "\n",
            "Maior número de faltas: 9\n",
            "Média geral das notas dos alunos: 7.0\n",
            "Maior média 8.0\n",
            "Média geral das notas dos alunos pelo método 2: 7.0\n"
          ]
        }
      ],
      "source": [
        "import pandas as pd\n",
        "notas_alunos=pd.read_csv(\"/content/notas_alunos.csv\")\n",
        "notas_alunos[\"media\"]=(notas_alunos[\"nota_1\"]+notas_alunos[\"nota_2\"])/2\n",
        "notas_alunos.loc[(notas_alunos[\"media\"]>=7) & (notas_alunos[\"faltas\"]<=5), \"situacao\"]=\"APROVADO\"\n",
        "notas_alunos.loc[(notas_alunos[\"media\"]<7) | (notas_alunos[\"faltas\"]>5), \"situacao\"]=\"REPROVADO\"\n",
        "print(notas_alunos)\n",
        "#Por fim, o programa deverá mostrar na tela:\n",
        "#- o maior número de faltas;\n",
        "#- a média geral das notas dos alunos;\n",
        "#- e a maior média.\n",
        "#.sum() é usada para somar todos os valores da coluna;\n",
        "#.median() é usada para tirar a média dos valores da coluna;\n",
        "#.max() e .min() são usadas para indicar os valores máximos e mínimos, respectivamente.\n",
        "media_geral=notas_alunos[\"media\"].sum()/4\n",
        "maior_falta=notas_alunos[\"faltas\"].max()\n",
        "maior_media=notas_alunos[\"media\"].max()\n",
        "media_geral2=notas_alunos[\"media\"].mean()\n",
        "\n",
        "print(f\"\\nMaior número de faltas: {maior_falta}\")\n",
        "print(f\"Média geral das notas dos alunos: {media_geral}\")\n",
        "print(f\"Maior média {maior_media}\")\n",
        "print(f\"Média geral das notas dos alunos pelo método 2: {media_geral2}\")\n"
      ]
    }
  ]
}