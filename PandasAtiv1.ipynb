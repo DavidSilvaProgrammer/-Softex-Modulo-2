{
  "nbformat": 4,
  "nbformat_minor": 0,
  "metadata": {
    "colab": {
      "provenance": [],
      "collapsed_sections": [],
      "authorship_tag": "ABX9TyPBaNb0V9nvTBIXonHLeFiH",
      "include_colab_link": true
    },
    "kernelspec": {
      "name": "python3",
      "display_name": "Python 3"
    },
    "language_info": {
      "name": "python"
    }
  },
  "cells": [
    {
      "cell_type": "markdown",
      "metadata": {
        "id": "view-in-github",
        "colab_type": "text"
      },
      "source": [
        "<a href=\"https://colab.research.google.com/github/DavidSilvaProgrammer/-Softex-Modulo-2/blob/main/PandasAtiv1.ipynb\" target=\"_parent\"><img src=\"https://colab.research.google.com/assets/colab-badge.svg\" alt=\"Open In Colab\"/></a>"
      ]
    },
    {
      "cell_type": "code",
      "execution_count": 3,
      "metadata": {
        "colab": {
          "base_uri": "https://localhost:8080/"
        },
        "id": "alSU2MBCckz8",
        "outputId": "bf9614f0-d138-45b0-8910-ae698fa948f2"
      },
      "outputs": [
        {
          "output_type": "stream",
          "name": "stdout",
          "text": [
            "     aluno  nota_1  nota_2  faltas  media   situacao\n",
            "0  aluno_1       7       7       1    7.0   APROVADO\n",
            "1  aluno_2       3      10       7    6.5  REPROVADO\n",
            "2  aluno_3       9       4       2    6.5  REPROVADO\n",
            "3  aluno_4      10       6       9    8.0  REPROVADO\n",
            "\n",
            "Maior número de faltas: 9\n",
            "Média geral das notas dos alunos: 7.0\n",
            "Maior média 8.0\n"
          ]
        }
      ],
      "source": [
        "import pandas as pd\n",
        "notas_alunos=pd.read_csv(\"/content/notas_alunos.csv\")\n",
        "notas_alunos[\"media\"]=(notas_alunos[\"nota_1\"]+notas_alunos[\"nota_2\"])/2\n",
        "notas_alunos.loc[(notas_alunos[\"media\"]>=7) & (notas_alunos[\"faltas\"]<=5), \"situacao\"]=\"APROVADO\"\n",
        "notas_alunos.loc[(notas_alunos[\"media\"]<7) | (notas_alunos[\"faltas\"]>5), \"situacao\"]=\"REPROVADO\"\n",
        "print(notas_alunos)\n",
        "\n",
        "media_geral=notas_alunos[\"media\"].mean()\n",
        "maior_falta=notas_alunos[\"faltas\"].max()\n",
        "maior_media=notas_alunos[\"media\"].max()\n",
        "\n",
        "print(f\"\\nMaior número de faltas: {maior_falta}\")\n",
        "print(f\"Média geral das notas dos alunos: {media_geral}\")\n",
        "print(f\"Maior média {maior_media}\")\n",
        "\n"
      ]
    }
  ]
}